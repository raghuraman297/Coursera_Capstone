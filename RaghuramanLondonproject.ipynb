{
  "nbformat": 4,
  "nbformat_minor": 0,
  "metadata": {
    "colab": {
      "name": "RaghuramanLondonproject.ipynb",
      "provenance": []
    },
    "kernelspec": {
      "name": "python3",
      "display_name": "Python 3"
    }
  },
  "cells": [
    {
      "cell_type": "markdown",
      "metadata": {
        "id": "yxZttCOqih_u",
        "colab_type": "text"
      },
      "source": [
        "**Increasing the revenues of restaurants by analysing the population in a specific region and their food habits.**\n",
        "\n",
        "Introduction\n",
        "\n",
        "To increase the revenues of restaurants by analysing the food habits of the customer with their orders in restaurant and by identifying huge populations new food combinations will be introduced and attract more customers in a specific region.\n",
        "\n",
        "\n",
        "\n",
        "Data\n",
        "\n",
        "I will be using Foursquare to utilise location data and explore London to identify the London boroughs that requires to identify the restaurants in a specific region.\n",
        "\n",
        "\n",
        "Areas will be identified that:\n",
        "\n",
        "Have large Populations\n",
        "Have more restaurants \n",
        "Have more children.\n"
      ]
    },
    {
      "cell_type": "markdown",
      "metadata": {
        "id": "4fmoGFwSiOAu",
        "colab_type": "text"
      },
      "source": [
        ""
      ]
    },
    {
      "cell_type": "code",
      "metadata": {
        "id": "fbca862w3MXM",
        "colab_type": "code",
        "colab": {
          "base_uri": "https://localhost:8080/",
          "height": 430
        },
        "outputId": "42de1d12-6f7a-4ce3-d049-65598b88360e"
      },
      "source": [
        "#London boroughs loaded\n",
        "from geopy.geocoders import Nominatim\n",
        "import matplotlib.pyplot as plt\n",
        "import seaborn as sns\n",
        "import pandas as pd\n",
        "import numpy as np\n",
        "import requests\n",
        "\n",
        "url='https://en.wikipedia.org/wiki/List_of_London_boroughs'\n",
        "\n",
        "B=pd.read_html(url, header=0)[0]\n",
        "\n",
        "B.head()"
      ],
      "execution_count": 11,
      "outputs": [
        {
          "output_type": "execute_result",
          "data": {
            "text/html": [
              "<div>\n",
              "<style scoped>\n",
              "    .dataframe tbody tr th:only-of-type {\n",
              "        vertical-align: middle;\n",
              "    }\n",
              "\n",
              "    .dataframe tbody tr th {\n",
              "        vertical-align: top;\n",
              "    }\n",
              "\n",
              "    .dataframe thead th {\n",
              "        text-align: right;\n",
              "    }\n",
              "</style>\n",
              "<table border=\"1\" class=\"dataframe\">\n",
              "  <thead>\n",
              "    <tr style=\"text-align: right;\">\n",
              "      <th></th>\n",
              "      <th>Borough</th>\n",
              "      <th>Inner</th>\n",
              "      <th>Status</th>\n",
              "      <th>Local authority</th>\n",
              "      <th>Political control</th>\n",
              "      <th>Headquarters</th>\n",
              "      <th>Area (sq mi)</th>\n",
              "      <th>Population (2013 est)[1]</th>\n",
              "      <th>Co-ordinates</th>\n",
              "      <th>Nr. in map</th>\n",
              "    </tr>\n",
              "  </thead>\n",
              "  <tbody>\n",
              "    <tr>\n",
              "      <th>0</th>\n",
              "      <td>Barking and Dagenham [note 1]</td>\n",
              "      <td>NaN</td>\n",
              "      <td>NaN</td>\n",
              "      <td>Barking and Dagenham London Borough Council</td>\n",
              "      <td>Labour</td>\n",
              "      <td>Town Hall, 1 Town Square</td>\n",
              "      <td>13.93</td>\n",
              "      <td>194352</td>\n",
              "      <td>51°33′39″N 0°09′21″E﻿ / ﻿51.5607°N 0.1557°E</td>\n",
              "      <td>25</td>\n",
              "    </tr>\n",
              "    <tr>\n",
              "      <th>1</th>\n",
              "      <td>Barnet</td>\n",
              "      <td>NaN</td>\n",
              "      <td>NaN</td>\n",
              "      <td>Barnet London Borough Council</td>\n",
              "      <td>Conservative</td>\n",
              "      <td>Barnet House, 2 Bristol Avenue, Colindale</td>\n",
              "      <td>33.49</td>\n",
              "      <td>369088</td>\n",
              "      <td>51°37′31″N 0°09′06″W﻿ / ﻿51.6252°N 0.1517°W</td>\n",
              "      <td>31</td>\n",
              "    </tr>\n",
              "    <tr>\n",
              "      <th>2</th>\n",
              "      <td>Bexley</td>\n",
              "      <td>NaN</td>\n",
              "      <td>NaN</td>\n",
              "      <td>Bexley London Borough Council</td>\n",
              "      <td>Conservative</td>\n",
              "      <td>Civic Offices, 2 Watling Street</td>\n",
              "      <td>23.38</td>\n",
              "      <td>236687</td>\n",
              "      <td>51°27′18″N 0°09′02″E﻿ / ﻿51.4549°N 0.1505°E</td>\n",
              "      <td>23</td>\n",
              "    </tr>\n",
              "    <tr>\n",
              "      <th>3</th>\n",
              "      <td>Brent</td>\n",
              "      <td>NaN</td>\n",
              "      <td>NaN</td>\n",
              "      <td>Brent London Borough Council</td>\n",
              "      <td>Labour</td>\n",
              "      <td>Brent Civic Centre, Engineers Way</td>\n",
              "      <td>16.70</td>\n",
              "      <td>317264</td>\n",
              "      <td>51°33′32″N 0°16′54″W﻿ / ﻿51.5588°N 0.2817°W</td>\n",
              "      <td>12</td>\n",
              "    </tr>\n",
              "    <tr>\n",
              "      <th>4</th>\n",
              "      <td>Bromley</td>\n",
              "      <td>NaN</td>\n",
              "      <td>NaN</td>\n",
              "      <td>Bromley London Borough Council</td>\n",
              "      <td>Conservative</td>\n",
              "      <td>Civic Centre, Stockwell Close</td>\n",
              "      <td>57.97</td>\n",
              "      <td>317899</td>\n",
              "      <td>51°24′14″N 0°01′11″E﻿ / ﻿51.4039°N 0.0198°E</td>\n",
              "      <td>20</td>\n",
              "    </tr>\n",
              "  </tbody>\n",
              "</table>\n",
              "</div>"
            ],
            "text/plain": [
              "                         Borough  ... Nr. in map\n",
              "0  Barking and Dagenham [note 1]  ...         25\n",
              "1                         Barnet  ...         31\n",
              "2                         Bexley  ...         23\n",
              "3                          Brent  ...         12\n",
              "4                        Bromley  ...         20\n",
              "\n",
              "[5 rows x 10 columns]"
            ]
          },
          "metadata": {
            "tags": []
          },
          "execution_count": 11
        }
      ]
    },
    {
      "cell_type": "code",
      "metadata": {
        "id": "hyiXeBMviAMm",
        "colab_type": "code",
        "colab": {}
      },
      "source": [
        ""
      ],
      "execution_count": 0,
      "outputs": []
    },
    {
      "cell_type": "code",
      "metadata": {
        "id": "RhjxHqQU3twd",
        "colab_type": "code",
        "colab": {
          "base_uri": "https://localhost:8080/",
          "height": 343
        },
        "outputId": "4596c42b-a30a-4086-8ab6-684c5ec6f623"
      },
      "source": [
        "#Cleaning the data up\n",
        "#Dropping irrelevant columns\n",
        "B = B.drop(['Inner','Status','Local authority','Political control','Headquarters','Nr. in map'], axis=1)\n",
        "#Cleaning up borough names\n",
        "B['Borough'].replace('Barking and Dagenham [note 1]','Barking and Dagenham', inplace=True)\n",
        "B['Borough'].replace('Greenwich [note 2]','Greenwich', inplace=True)\n",
        "B['Borough'].replace('Hammersmith and Fulham [note 4]','Hammersmith and Fulham', inplace=True)\n",
        "B.head(10)"
      ],
      "execution_count": 6,
      "outputs": [
        {
          "output_type": "execute_result",
          "data": {
            "text/html": [
              "<div>\n",
              "<style scoped>\n",
              "    .dataframe tbody tr th:only-of-type {\n",
              "        vertical-align: middle;\n",
              "    }\n",
              "\n",
              "    .dataframe tbody tr th {\n",
              "        vertical-align: top;\n",
              "    }\n",
              "\n",
              "    .dataframe thead th {\n",
              "        text-align: right;\n",
              "    }\n",
              "</style>\n",
              "<table border=\"1\" class=\"dataframe\">\n",
              "  <thead>\n",
              "    <tr style=\"text-align: right;\">\n",
              "      <th></th>\n",
              "      <th>Borough</th>\n",
              "      <th>Area (sq mi)</th>\n",
              "      <th>Population (2013 est)[1]</th>\n",
              "      <th>Co-ordinates</th>\n",
              "    </tr>\n",
              "  </thead>\n",
              "  <tbody>\n",
              "    <tr>\n",
              "      <th>0</th>\n",
              "      <td>Barking and Dagenham</td>\n",
              "      <td>13.93</td>\n",
              "      <td>194352</td>\n",
              "      <td>51°33′39″N 0°09′21″E﻿ / ﻿51.5607°N 0.1557°E</td>\n",
              "    </tr>\n",
              "    <tr>\n",
              "      <th>1</th>\n",
              "      <td>Barnet</td>\n",
              "      <td>33.49</td>\n",
              "      <td>369088</td>\n",
              "      <td>51°37′31″N 0°09′06″W﻿ / ﻿51.6252°N 0.1517°W</td>\n",
              "    </tr>\n",
              "    <tr>\n",
              "      <th>2</th>\n",
              "      <td>Bexley</td>\n",
              "      <td>23.38</td>\n",
              "      <td>236687</td>\n",
              "      <td>51°27′18″N 0°09′02″E﻿ / ﻿51.4549°N 0.1505°E</td>\n",
              "    </tr>\n",
              "    <tr>\n",
              "      <th>3</th>\n",
              "      <td>Brent</td>\n",
              "      <td>16.70</td>\n",
              "      <td>317264</td>\n",
              "      <td>51°33′32″N 0°16′54″W﻿ / ﻿51.5588°N 0.2817°W</td>\n",
              "    </tr>\n",
              "    <tr>\n",
              "      <th>4</th>\n",
              "      <td>Bromley</td>\n",
              "      <td>57.97</td>\n",
              "      <td>317899</td>\n",
              "      <td>51°24′14″N 0°01′11″E﻿ / ﻿51.4039°N 0.0198°E</td>\n",
              "    </tr>\n",
              "    <tr>\n",
              "      <th>5</th>\n",
              "      <td>Camden</td>\n",
              "      <td>8.40</td>\n",
              "      <td>229719</td>\n",
              "      <td>51°31′44″N 0°07′32″W﻿ / ﻿51.5290°N 0.1255°W</td>\n",
              "    </tr>\n",
              "    <tr>\n",
              "      <th>6</th>\n",
              "      <td>Croydon</td>\n",
              "      <td>33.41</td>\n",
              "      <td>372752</td>\n",
              "      <td>51°22′17″N 0°05′52″W﻿ / ﻿51.3714°N 0.0977°W</td>\n",
              "    </tr>\n",
              "    <tr>\n",
              "      <th>7</th>\n",
              "      <td>Ealing</td>\n",
              "      <td>21.44</td>\n",
              "      <td>342494</td>\n",
              "      <td>51°30′47″N 0°18′32″W﻿ / ﻿51.5130°N 0.3089°W</td>\n",
              "    </tr>\n",
              "    <tr>\n",
              "      <th>8</th>\n",
              "      <td>Enfield</td>\n",
              "      <td>31.74</td>\n",
              "      <td>320524</td>\n",
              "      <td>51°39′14″N 0°04′48″W﻿ / ﻿51.6538°N 0.0799°W</td>\n",
              "    </tr>\n",
              "    <tr>\n",
              "      <th>9</th>\n",
              "      <td>Greenwich</td>\n",
              "      <td>18.28</td>\n",
              "      <td>264008</td>\n",
              "      <td>51°29′21″N 0°03′53″E﻿ / ﻿51.4892°N 0.0648°E</td>\n",
              "    </tr>\n",
              "  </tbody>\n",
              "</table>\n",
              "</div>"
            ],
            "text/plain": [
              "                Borough  ...                                 Co-ordinates\n",
              "0  Barking and Dagenham  ...  51°33′39″N 0°09′21″E﻿ / ﻿51.5607°N 0.1557°E\n",
              "1                Barnet  ...  51°37′31″N 0°09′06″W﻿ / ﻿51.6252°N 0.1517°W\n",
              "2                Bexley  ...  51°27′18″N 0°09′02″E﻿ / ﻿51.4549°N 0.1505°E\n",
              "3                 Brent  ...  51°33′32″N 0°16′54″W﻿ / ﻿51.5588°N 0.2817°W\n",
              "4               Bromley  ...  51°24′14″N 0°01′11″E﻿ / ﻿51.4039°N 0.0198°E\n",
              "5                Camden  ...  51°31′44″N 0°07′32″W﻿ / ﻿51.5290°N 0.1255°W\n",
              "6               Croydon  ...  51°22′17″N 0°05′52″W﻿ / ﻿51.3714°N 0.0977°W\n",
              "7                Ealing  ...  51°30′47″N 0°18′32″W﻿ / ﻿51.5130°N 0.3089°W\n",
              "8               Enfield  ...  51°39′14″N 0°04′48″W﻿ / ﻿51.6538°N 0.0799°W\n",
              "9             Greenwich  ...  51°29′21″N 0°03′53″E﻿ / ﻿51.4892°N 0.0648°E\n",
              "\n",
              "[10 rows x 4 columns]"
            ]
          },
          "metadata": {
            "tags": []
          },
          "execution_count": 6
        }
      ]
    },
    {
      "cell_type": "code",
      "metadata": {
        "id": "u0dItE0P302y",
        "colab_type": "code",
        "colab": {
          "base_uri": "https://localhost:8080/",
          "height": 397
        },
        "outputId": "15a73346-67e4-4daf-d9bc-5db59a8b5936"
      },
      "source": [
        "#Renaming the column titles\n",
        "B = B.rename(columns = {\"Area (sq mi)\": \"Area\", \n",
        "                        \"Population (2013 est)[1]\":\"Population\",})\n",
        "#Fixing coords\n",
        "geolocator = Nominatim(user_agent=\"London_explorer\")\n",
        "B['Co-ordinates']= B['Borough'].apply(geolocator.geocode).apply(lambda x: (x.latitude, x.longitude))\n",
        "B[['Latitude', 'Longitude']] = B['Co-ordinates'].apply(pd.Series)\n",
        "Longitude_list = B['Longitude'].tolist()\n",
        "Latitude_list = B['Latitude'].tolist()\n",
        "print (\"Old latitude list: \", Latitude_list)\n",
        "print (\"Old Longitude list: \", Longitude_list)\n",
        "\n",
        "replace_longitudes = {-106.6621329:0.0799, -2.8417544: 0.1837}\n",
        "replace_latitudes = {50.7164496:51.6636, 51.0358628: 51.5499}\n",
        "\n",
        "longtitudes_new = [replace_longitudes.get(n9,n9) for n9 in Longitude_list]\n",
        "latitudes_new = [replace_latitudes.get(n9,n9) for n9 in Latitude_list]\n",
        "\n",
        "B = B.drop(['Co-ordinates', 'Longitude'], axis=1)\n",
        "\n",
        "B['Longitude'] = longtitudes_new\n",
        "B['Latitude'] = latitudes_new\n",
        "B.head(10)"
      ],
      "execution_count": 8,
      "outputs": [
        {
          "output_type": "stream",
          "text": [
            "Old latitude list:  [51.5541171, 51.65309, 39.9692378, 32.9373463, 51.4028046, 39.9448402, 51.3713049, 51.5126553, 51.6520851, 51.4820845, 51.5432402, 51.4920377, 51.587929849999995, 51.5967688, 51.0043613, 51.542519299999995, 51.4686132, 51.5384287, 51.4875417, 51.4096275, 51.5013012, 51.4624325, 51.410802849999996, 51.52999955, 51.5763203, 51.44046095, 51.5029222, 30.5672947, 51.1288633, 42.3756401, 51.4570271, 39.8366528]\n",
            "Old Longitude list:  [0.15050434261994267, -0.2002261, -82.936864, -87.1647184, 0.0148142, -75.1198911, -0.101957, -0.3051952, -0.0810175, -0.0045417, -0.0493621, -0.2236401, -0.10541010599099046, -0.33727515543507014, -2.337474942629507, -0.44833493117949663, -0.3613471, -0.0999051, -0.1682205, -0.3062621, -0.117287, -0.0101331, -0.18809850595572736, 0.02931796029382208, 0.0454097, -0.3055192359117199, -0.103458, -100.6432359, 1.2986686, -71.2358004, -0.1932607, -105.0372046]\n"
          ],
          "name": "stdout"
        },
        {
          "output_type": "execute_result",
          "data": {
            "text/html": [
              "<div>\n",
              "<style scoped>\n",
              "    .dataframe tbody tr th:only-of-type {\n",
              "        vertical-align: middle;\n",
              "    }\n",
              "\n",
              "    .dataframe tbody tr th {\n",
              "        vertical-align: top;\n",
              "    }\n",
              "\n",
              "    .dataframe thead th {\n",
              "        text-align: right;\n",
              "    }\n",
              "</style>\n",
              "<table border=\"1\" class=\"dataframe\">\n",
              "  <thead>\n",
              "    <tr style=\"text-align: right;\">\n",
              "      <th></th>\n",
              "      <th>Borough</th>\n",
              "      <th>Area</th>\n",
              "      <th>Population</th>\n",
              "      <th>Latitude</th>\n",
              "      <th>Longitude</th>\n",
              "    </tr>\n",
              "  </thead>\n",
              "  <tbody>\n",
              "    <tr>\n",
              "      <th>0</th>\n",
              "      <td>Barking and Dagenham</td>\n",
              "      <td>13.93</td>\n",
              "      <td>194352</td>\n",
              "      <td>51.554117</td>\n",
              "      <td>0.150504</td>\n",
              "    </tr>\n",
              "    <tr>\n",
              "      <th>1</th>\n",
              "      <td>Barnet</td>\n",
              "      <td>33.49</td>\n",
              "      <td>369088</td>\n",
              "      <td>51.653090</td>\n",
              "      <td>-0.200226</td>\n",
              "    </tr>\n",
              "    <tr>\n",
              "      <th>2</th>\n",
              "      <td>Bexley</td>\n",
              "      <td>23.38</td>\n",
              "      <td>236687</td>\n",
              "      <td>39.969238</td>\n",
              "      <td>-82.936864</td>\n",
              "    </tr>\n",
              "    <tr>\n",
              "      <th>3</th>\n",
              "      <td>Brent</td>\n",
              "      <td>16.70</td>\n",
              "      <td>317264</td>\n",
              "      <td>32.937346</td>\n",
              "      <td>-87.164718</td>\n",
              "    </tr>\n",
              "    <tr>\n",
              "      <th>4</th>\n",
              "      <td>Bromley</td>\n",
              "      <td>57.97</td>\n",
              "      <td>317899</td>\n",
              "      <td>51.402805</td>\n",
              "      <td>0.014814</td>\n",
              "    </tr>\n",
              "    <tr>\n",
              "      <th>5</th>\n",
              "      <td>Camden</td>\n",
              "      <td>8.40</td>\n",
              "      <td>229719</td>\n",
              "      <td>39.944840</td>\n",
              "      <td>-75.119891</td>\n",
              "    </tr>\n",
              "    <tr>\n",
              "      <th>6</th>\n",
              "      <td>Croydon</td>\n",
              "      <td>33.41</td>\n",
              "      <td>372752</td>\n",
              "      <td>51.371305</td>\n",
              "      <td>-0.101957</td>\n",
              "    </tr>\n",
              "    <tr>\n",
              "      <th>7</th>\n",
              "      <td>Ealing</td>\n",
              "      <td>21.44</td>\n",
              "      <td>342494</td>\n",
              "      <td>51.512655</td>\n",
              "      <td>-0.305195</td>\n",
              "    </tr>\n",
              "    <tr>\n",
              "      <th>8</th>\n",
              "      <td>Enfield</td>\n",
              "      <td>31.74</td>\n",
              "      <td>320524</td>\n",
              "      <td>51.652085</td>\n",
              "      <td>-0.081018</td>\n",
              "    </tr>\n",
              "    <tr>\n",
              "      <th>9</th>\n",
              "      <td>Greenwich</td>\n",
              "      <td>18.28</td>\n",
              "      <td>264008</td>\n",
              "      <td>51.482084</td>\n",
              "      <td>-0.004542</td>\n",
              "    </tr>\n",
              "  </tbody>\n",
              "</table>\n",
              "</div>"
            ],
            "text/plain": [
              "                Borough   Area  Population   Latitude  Longitude\n",
              "0  Barking and Dagenham  13.93      194352  51.554117   0.150504\n",
              "1                Barnet  33.49      369088  51.653090  -0.200226\n",
              "2                Bexley  23.38      236687  39.969238 -82.936864\n",
              "3                 Brent  16.70      317264  32.937346 -87.164718\n",
              "4               Bromley  57.97      317899  51.402805   0.014814\n",
              "5                Camden   8.40      229719  39.944840 -75.119891\n",
              "6               Croydon  33.41      372752  51.371305  -0.101957\n",
              "7                Ealing  21.44      342494  51.512655  -0.305195\n",
              "8               Enfield  31.74      320524  51.652085  -0.081018\n",
              "9             Greenwich  18.28      264008  51.482084  -0.004542"
            ]
          },
          "metadata": {
            "tags": []
          },
          "execution_count": 8
        }
      ]
    },
    {
      "cell_type": "code",
      "metadata": {
        "id": "xzQLg90o4mlx",
        "colab_type": "code",
        "colab": {
          "base_uri": "https://localhost:8080/",
          "height": 34
        },
        "outputId": "9a9cd4ab-3c8f-4d2d-d4f6-a132b38825d2"
      },
      "source": [
        "#All boroughs on a Map\n",
        "from geopy.geocoders import Nominatim\n",
        "address = 'London'\n",
        "\n",
        "geolocator = Nominatim(user_agent=\"London_explorer\")\n",
        "location = geolocator.geocode(address)\n",
        "London_latitude = location.latitude\n",
        "London_longitude = location.longitude\n",
        "print('The geograpical coordinates of London are {}, {}.'.format(London_latitude, London_longitude))"
      ],
      "execution_count": 9,
      "outputs": [
        {
          "output_type": "stream",
          "text": [
            "The geograpical coordinates of London are 51.5073219, -0.1276474.\n"
          ],
          "name": "stdout"
        }
      ]
    },
    {
      "cell_type": "code",
      "metadata": {
        "id": "8NrGXcEN4yoA",
        "colab_type": "code",
        "colab": {
          "base_uri": "https://localhost:8080/",
          "height": 806
        },
        "outputId": "4bf4ff46-8e37-47db-b5f3-6f3f707faa21"
      },
      "source": [
        "!pip install folium\n",
        "import folium\n",
        "\n",
        "Final = folium.Map(location=[London_latitude, London_longitude], zoom_start=10)\n",
        "\n",
        "\n",
        "for lat, lng, label in zip(B['Latitude'], B['Longitude'], \n",
        "                            B['Borough']):\n",
        "    label = folium.Popup(label, parse_html=True)\n",
        "    folium.CircleMarker(\n",
        "        [lat, lng],\n",
        "        radius=10,\n",
        "        popup=label,\n",
        "        color='Yellow',\n",
        "        fill=True,\n",
        "        fill_color='#Black',\n",
        "        fill_opacity=0.5).add_to(Final)\n",
        "Final"
      ],
      "execution_count": 10,
      "outputs": [
        {
          "output_type": "stream",
          "text": [
            "Requirement already satisfied: folium in /usr/local/lib/python3.6/dist-packages (0.8.3)\n",
            "Requirement already satisfied: six in /usr/local/lib/python3.6/dist-packages (from folium) (1.12.0)\n",
            "Requirement already satisfied: jinja2 in /usr/local/lib/python3.6/dist-packages (from folium) (2.11.2)\n",
            "Requirement already satisfied: requests in /usr/local/lib/python3.6/dist-packages (from folium) (2.21.0)\n",
            "Requirement already satisfied: branca>=0.3.0 in /usr/local/lib/python3.6/dist-packages (from folium) (0.4.0)\n",
            "Requirement already satisfied: numpy in /usr/local/lib/python3.6/dist-packages (from folium) (1.18.3)\n",
            "Requirement already satisfied: MarkupSafe>=0.23 in /usr/local/lib/python3.6/dist-packages (from jinja2->folium) (1.1.1)\n",
            "Requirement already satisfied: certifi>=2017.4.17 in /usr/local/lib/python3.6/dist-packages (from requests->folium) (2020.4.5.1)\n",
            "Requirement already satisfied: chardet<3.1.0,>=3.0.2 in /usr/local/lib/python3.6/dist-packages (from requests->folium) (3.0.4)\n",
            "Requirement already satisfied: idna<2.9,>=2.5 in /usr/local/lib/python3.6/dist-packages (from requests->folium) (2.8)\n",
            "Requirement already satisfied: urllib3<1.25,>=1.21.1 in /usr/local/lib/python3.6/dist-packages (from requests->folium) (1.24.3)\n"
          ],
          "name": "stdout"
        },
        {
          "output_type": "execute_result",
          "data": {
            "text/html": [
              "<div style=\"width:100%;\"><div style=\"position:relative;width:100%;height:0;padding-bottom:60%;\"><iframe src=\"about:blank\" style=\"position:absolute;width:100%;height:100%;left:0;top:0;border:none !important;\" data-html=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 onload=\"this.contentDocument.open();this.contentDocument.write(atob(this.getAttribute('data-html')));this.contentDocument.close();\" allowfullscreen webkitallowfullscreen mozallowfullscreen></iframe></div></div>"
            ],
            "text/plain": [
              "<folium.folium.Map at 0x7f019a216048>"
            ]
          },
          "metadata": {
            "tags": []
          },
          "execution_count": 10
        }
      ]
    },
    {
      "cell_type": "markdown",
      "metadata": {
        "id": "zk9tPiCAktkr",
        "colab_type": "text"
      },
      "source": [
        "Results\n",
        "\n",
        "The restaurant spots are identified in the folium map by the areas where the population is in huge numbers and thereby revenues can be increased with setup of new restaurants and if there are restaurants already present in that area, new food items are introduced in the menu.  "
      ]
    }
  ]
}